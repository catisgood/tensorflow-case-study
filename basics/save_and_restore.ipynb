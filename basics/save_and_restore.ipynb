{
 "cells": [
  {
   "cell_type": "code",
   "execution_count": 8,
   "metadata": {
    "scrolled": true
   },
   "outputs": [
    {
     "name": "stdout",
     "output_type": "stream",
     "text": [
      "Extracting MNIST_data/train-images-idx3-ubyte.gz\n",
      "Extracting MNIST_data/train-labels-idx1-ubyte.gz\n",
      "Extracting MNIST_data/t10k-images-idx3-ubyte.gz\n",
      "Extracting MNIST_data/t10k-labels-idx1-ubyte.gz\n"
     ]
    }
   ],
   "source": [
    "import tensorflow as tf\n",
    "import numpy as np\n",
    "import os\n",
    "from tensorflow.examples.tutorials.mnist import input_data\n",
    "mnist = input_data.read_data_sets(\"MNIST_data/\",one_hot=True)"
   ]
  },
  {
   "cell_type": "code",
   "execution_count": 39,
   "metadata": {},
   "outputs": [
    {
     "name": "stdout",
     "output_type": "stream",
     "text": [
      "Trained model found\n",
      "INFO:tensorflow:Restoring parameters from ./savedata/model.ckpt\n",
      "The test accuracy is 0.94\n"
     ]
    }
   ],
   "source": [
    "def rand_init(shape):\n",
    "    return tf.Variable(tf.random_normal(shape,mean=0.0,stddev=0.01))\n",
    "tf.reset_default_graph()\n",
    "x_ = tf.placeholder(tf.float32,[None,784])\n",
    "y_ = tf.placeholder(tf.float32,[None,10])\n",
    "\n",
    "W1 = rand_init([784,64])\n",
    "b1 = rand_init([64])\n",
    "layer1 = tf.nn.dropout(tf.tanh(tf.matmul(x_,W1)+b1),keep_prob=0.8)\n",
    "\n",
    "W2 = rand_init([64,64])\n",
    "b2 = rand_init([64])\n",
    "layer2 = tf.nn.dropout(tf.tanh(tf.matmul(layer1,W2)+b2),keep_prob=0.8)\n",
    "\n",
    "W3 = rand_init([64,10])\n",
    "b3 = rand_init([10])\n",
    "output = tf.matmul(layer2,W3)+b3\n",
    "\n",
    "cross_entropy = tf.nn.softmax_cross_entropy_with_logits(labels=y_,logits=output)\n",
    "accuracy = tf.reduce_mean(tf.cast(tf.equal(tf.argmax(output,1),\n",
    "                                           tf.argmax(y_,1)),tf.float32))\n",
    "trainstep = tf.train.AdamOptimizer(1e-4).minimize(cross_entropy)\n",
    "saver = tf.train.Saver()\n",
    "with tf.Session() as sess:    \n",
    "    if not os.path.exists(\"./savedata/model.ckpt.index\"):\n",
    "        sess.run(tf.global_variables_initializer())\n",
    "        for i in range(20000):\n",
    "            image,label = mnist.train.next_batch(50)\n",
    "            trainstep.run({x_:image,y_:label})\n",
    "            if i%1000==0:\n",
    "                print(\"%d the accuracy is %.2f\"%(i,accuracy.eval({x_:image,y_:label})))        \n",
    "        savepath=saver.save(sess,\"./savedata/model.ckpt\")\n",
    "        print(\"Model saved in the file: %s\"%savepath)\n",
    "    else:\n",
    "        print(\"Trained model found\")\n",
    "        saver.restore(sess,\"./savedata/model.ckpt\")\n",
    "    print(\"The test accuracy is %.2f\"%accuracy.eval({x_:mnist.test.images,y_:mnist.test.labels}))\n",
    "\n"
   ]
  },
  {
   "cell_type": "code",
   "execution_count": null,
   "metadata": {
    "collapsed": true
   },
   "outputs": [],
   "source": []
  }
 ],
 "metadata": {
  "kernelspec": {
   "display_name": "Python 3",
   "language": "python",
   "name": "python3"
  },
  "language_info": {
   "codemirror_mode": {
    "name": "ipython",
    "version": 3
   },
   "file_extension": ".py",
   "mimetype": "text/x-python",
   "name": "python",
   "nbconvert_exporter": "python",
   "pygments_lexer": "ipython3",
   "version": "3.6.1"
  }
 },
 "nbformat": 4,
 "nbformat_minor": 2
}
