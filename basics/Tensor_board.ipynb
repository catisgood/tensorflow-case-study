{
 "cells": [
  {
   "cell_type": "code",
   "execution_count": null,
   "metadata": {},
   "outputs": [],
   "source": [
    "import  tensorflow  as  tf \n",
    "a  =  tf.constant ( 2)\n",
    "b  =  tf.constant ( 3)\n",
    "x  =  tf.add (a , b)\n",
    "with  tf.Session () as  sess:\n",
    "    writer  =  tf.summary.FileWriter('./graphs',sess.graph)\n",
    "    print(sess.run ( x))\n",
    "# close the writer when you’re done using it\n",
    "writer.close()\n",
    "# 在shell中执行tensorboard  -- logdir = \"./graphs\""
   ]
  },
  {
   "cell_type": "code",
   "execution_count": null,
   "metadata": {},
   "outputs": [],
   "source": [
    "import  tensorflow  as  tf \n",
    "tf.reset_default_graph()\n",
    "a  =  tf.Variable ([2.],tf.float32)\n",
    "double_a = a.assign(a*2)\n",
    "with  tf.Session () as  sess:\n",
    "    sess.run(tf.global_variables_initializer())\n",
    "    writer = tf.summary.FileWriter('./graphs',sess.graph)\n",
    "    print(sess.run(double_a))\n",
    "    print(sess.run(double_a))\n",
    "    print(sess.run(double_a))\n",
    "    print(sess.run(double_a))\n",
    "    print(a.eval())\n",
    "# close the writer when you’re done using it\n",
    "writer.close()\n",
    "# 在shell中执行tensorboard  -- logdir = \"./graphs\""
   ]
  },
  {
   "cell_type": "code",
   "execution_count": null,
   "metadata": {},
   "outputs": [],
   "source": [
    "import tensorflow as tf\n",
    "tf.reset_default_graph()\n",
    "a = tf.constant([2.])\n",
    "b = tf.constant([3.])\n",
    "z = a + b\n",
    "with tf.Session() as sess:\n",
    "    #sess.run(tf.global_variables_initializer())\n",
    "    print(sess.run(z))\n",
    "    writer = tf.summary.FileWriter(\"./graph\",sess.graph)\n",
    "writer.close()"
   ]
  },
  {
   "cell_type": "code",
   "execution_count": null,
   "metadata": {},
   "outputs": [],
   "source": [
    "import tensorflow as tf\n",
    "tf.reset_default_graph()\n",
    "a = tf.constant([2.])\n",
    "b = tf.constant([3.])\n",
    "z = a + b\n",
    "with tf.Session() as sess:\n",
    "    #sess.run(tf.global_variables_initializer())\n",
    "    print(sess.run(z))\n",
    "    writer = tf.summary.FileWriter(\"./graph\",sess.graph)\n",
    "writer.close()"
   ]
  },
  {
   "cell_type": "code",
   "execution_count": 2,
   "metadata": {},
   "outputs": [
    {
     "name": "stdout",
     "output_type": "stream",
     "text": [
      "The regression model is y = 2.47x+12.00\n"
     ]
    }
   ],
   "source": [
    "import tensorflow as tf\n",
    "import numpy as np\n",
    "import tensorflow as tf\n",
    "\n",
    "tf.reset_default_graph()\n",
    "# Generate the synthetic data\n",
    "a =2.5\n",
    "b = 10\n",
    "sigma = 10\n",
    "X = np.random.rand(100)*100\n",
    "Y = a*X+b+np.random.randn(100)*10\n",
    "\n",
    "# Preprocess the input\n",
    "X = X.reshape([-1,1])\n",
    "Y = Y.reshape([-1,1])\n",
    "\n",
    "# begin tf modeling\n",
    "x_ = tf.placeholder(tf.float32,[None,1])\n",
    "y_ = tf.placeholder(tf.float32,[None,1])\n",
    "with tf.variable_scope(\"Modeling\"):\n",
    "    a = tf.Variable(np.random.rand(),dtype=tf.float32,name='a')\n",
    "    tf.summary.scalar('a',a)\n",
    "    b = tf.Variable(np.random.rand(),dtype=tf.float32,name='b')\n",
    "    tf.summary.scalar('b',b)\n",
    "    output_y = a*x_+b\n",
    "    tf.summary.histogram('output_y',output_y)\n",
    "with tf.variable_scope(\"Training\"):\n",
    "    loss = tf.reduce_sum(tf.square(output_y-y_),name=\"loss\")\n",
    "    tf.summary.scalar('loss',loss)\n",
    "    trainstep = tf.train.AdamOptimizer(1).minimize(loss)\n",
    "\n",
    "\n",
    "with tf.Session() as sess:\n",
    "    sess.run(tf.global_variables_initializer())\n",
    "    merged_summary_op = tf.summary.merge_all()\n",
    "    summary_writer = tf.summary.FileWriter('/tmp/linear_regression', sess.graph)\n",
    "    prevloss = 0\n",
    "    for i in range(2000):\n",
    "        _,currentloss,summary_str = sess.run([trainstep,loss,merged_summary_op],{x_:X,y_:Y})\n",
    "        summary_str = sess.run(merged_summary_op,{x_:X,y_:Y})\n",
    "        summary_writer.add_summary(summary_str, i)\n",
    "        if np.abs(currentloss-prevloss)<1e-2:\n",
    "            break\n",
    "        else:\n",
    "            prevloss = currentloss\n",
    "    a = a.eval()\n",
    "    b = b.eval()\n",
    "    print(\"The regression model is y = %.2fx+%.2f\"%(a,b)) \n",
    "    summary_writer.close()\n",
    "\n"
   ]
  },
  {
   "cell_type": "code",
   "execution_count": null,
   "metadata": {
    "collapsed": true
   },
   "outputs": [],
   "source": [
    "tf.summary.scalar()\n",
    "tf.summary.histogram()\n",
    "tf.summary.merge_all()\n",
    "summary_writer = tf.summary.FileWriter()\n",
    "summary_writer.add_summary(summary_str,global_step)\n",
    "summary_writer.close()"
   ]
  }
 ],
 "metadata": {
  "kernelspec": {
   "display_name": "Python 3",
   "language": "python",
   "name": "python3"
  },
  "language_info": {
   "codemirror_mode": {
    "name": "ipython",
    "version": 3
   },
   "file_extension": ".py",
   "mimetype": "text/x-python",
   "name": "python",
   "nbconvert_exporter": "python",
   "pygments_lexer": "ipython3",
   "version": "3.6.1"
  }
 },
 "nbformat": 4,
 "nbformat_minor": 2
}
