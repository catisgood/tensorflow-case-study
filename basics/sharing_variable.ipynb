{
 "cells": [
  {
   "cell_type": "markdown",
   "metadata": {},
   "source": [
    "### Graph\n",
    "`g1 = tf.Graph()` <br />\n",
    "`with g1.as_default():`<br />\n",
    "### Session\n",
    "`with tf.Session(Graph=g1) as sess1:`<br />\n",
    "### variable scope\n",
    "`with tf.variable_scope(\"foo\"):`<br />\n",
    "`t = tf.get_variable(\"v\",[1])`<br />\n",
    "`tf.get_variable_scope()`<br />\n",
    "`tf.get_variable_scope().reuse_variables()`<br />"
   ]
  },
  {
   "cell_type": "code",
   "execution_count": 5,
   "metadata": {},
   "outputs": [],
   "source": [
    "import tensorflow as tf\n",
    "from PIL import Image\n",
    "import numpy as np\n",
    "\n",
    "tf.reset_default_graph()\n",
    "image1 = tf.cast(tf.constant(np.array(Image.open('cameraman.png')).reshape([-1,256,256,1])),tf.float32)/255.0\n",
    "image2 = tf.cast(tf.constant(np.array(Image.open('emoji_1.png').convert('L')).reshape([-1,429,705,1])),tf.float32)/255.0\n",
    "def conv_relu(input, kernel_shape, bias_shape):\n",
    "    # Create variable named \"weights\".\n",
    "    weights = tf.get_variable(\"weights\", kernel_shape,\n",
    "        initializer=tf.random_normal_initializer())\n",
    "    # Create variable named \"biases\".\n",
    "    biases = tf.get_variable(\"biases\", bias_shape,\n",
    "        initializer=tf.constant_initializer(0.0))\n",
    "    conv = tf.nn.conv2d(input, weights,\n",
    "        strides=[1, 1, 1, 1], padding='SAME')\n",
    "    return tf.nn.relu(conv + biases)\n",
    "\n",
    "def my_image_filter(input_images):\n",
    "    with tf.variable_scope(\"conv1\"):\n",
    "        # Variables created here will be named \"conv1/weights\", \"conv1/biases\".\n",
    "        relu1 = conv_relu(input_images, [5, 5, 1, 32], [32])\n",
    "    with tf.variable_scope(\"conv2\"):\n",
    "        # Variables created here will be named \"conv2/weights\", \"conv2/biases\".\n",
    "        return conv_relu(relu1, [5, 5, 32, 32], [32])\n",
    "    \n",
    "with tf.variable_scope(\"hello\") as scope:\n",
    "    #scope.reuse_variables() 在此位置加这句则不能用tf.get_variable()初始化\n",
    "    result1 = my_image_filter(image1)\n",
    "    scope.reuse_variables() #表示后面是复用\n",
    "    result2 = my_image_filter(image2)\n",
    "# Raises ValueError(... conv1/weights already exists ...)\n",
    "# 这里一共有4个变量而不是8个,hello/[conv1,conv2]/[weights,biases],达到了共享参数的效果"
   ]
  },
  {
   "cell_type": "code",
   "execution_count": 86,
   "metadata": {},
   "outputs": [
    {
     "name": "stdout",
     "output_type": "stream",
     "text": [
      "foo/bar/v:0\n"
     ]
    }
   ],
   "source": [
    "# name scope 可以累积\n",
    "with tf.variable_scope(\"foo\"):\n",
    "    with tf.variable_scope(\"bar\"):\n",
    "        t = tf.get_variable(\"v\",[1])\n",
    "print(t.name)"
   ]
  },
  {
   "cell_type": "code",
   "execution_count": 2,
   "metadata": {},
   "outputs": [
    {
     "name": "stdout",
     "output_type": "stream",
     "text": [
      "[ 1.]\n",
      "[ 2.]\n"
     ]
    }
   ],
   "source": [
    "import tensorflow as tf\n",
    "g1 = tf.Graph() # 定义新图 \n",
    "with g1.as_default(): \n",
    "    c1 = tf.constant([1.0])\n",
    "with tf.Graph().as_default() as g2:\n",
    "    c2 = tf.constant([2.0])\n",
    "\n",
    "with tf.Session(graph=g1) as sess1:\n",
    "    print(sess1.run(c1))\n",
    "with tf.Session(graph=g2) as sess2:\n",
    "    print(sess2.run(c2))\n"
   ]
  },
  {
   "cell_type": "code",
   "execution_count": null,
   "metadata": {
    "collapsed": true
   },
   "outputs": [],
   "source": []
  }
 ],
 "metadata": {
  "kernelspec": {
   "display_name": "Python 3",
   "language": "python",
   "name": "python3"
  },
  "language_info": {
   "codemirror_mode": {
    "name": "ipython",
    "version": 3
   },
   "file_extension": ".py",
   "mimetype": "text/x-python",
   "name": "python",
   "nbconvert_exporter": "python",
   "pygments_lexer": "ipython3",
   "version": "3.6.1"
  }
 },
 "nbformat": 4,
 "nbformat_minor": 2
}
