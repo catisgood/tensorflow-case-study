{
 "cells": [
  {
   "cell_type": "code",
   "execution_count": 15,
   "metadata": {},
   "outputs": [
    {
     "name": "stdout",
     "output_type": "stream",
     "text": [
      "(256, 256, 1)\n",
      "(429, 705, 3)\n",
      "(429, 705, 3)\n",
      "(256, 256, 1)\n",
      "(429, 705, 3)\n"
     ]
    }
   ],
   "source": [
    "import tensorflow as tf\n",
    "# file list\n",
    "filenames = ['./cameraman.png','./emoji_1.png']\n",
    "# file queue\n",
    "filename_queue = tf.train.string_input_producer(filenames)\n",
    "reader = tf.WholeFileReader()\n",
    "_, value = reader.read(filename_queue)\n",
    "# image queue\n",
    "images = tf.image.decode_png(value)\n",
    "with tf.Session() as sess:\n",
    "    coord = tf.train.Coordinator()\n",
    "    threads = tf.train.start_queue_runners(coord=coord)\n",
    "\n",
    "    # Finish off the filename queue coordinator.\n",
    "    sess.run(tf.global_variables_initializer())\n",
    "    for i in range(5):\n",
    "        print(images.eval().shape)\n",
    "    \n",
    "    coord.request_stop()\n",
    "    coord.join(threads)"
   ]
  },
  {
   "cell_type": "code",
   "execution_count": 13,
   "metadata": {
    "scrolled": true
   },
   "outputs": [
    {
     "name": "stdout",
     "output_type": "stream",
     "text": [
      "[[   1.            1.           35.            0.            0.\n",
      "   135.63330078]\n",
      " [   1.            0.           37.            1.            1.\n",
      "    52.55419922]\n",
      " [   1.            0.           48.            0.            0.\n",
      "    26.54999924]\n",
      " [   1.            1.           50.            0.            1.\n",
      "   247.52079773]\n",
      " [   1.            0.            0.91670001    1.            2.\n",
      "   151.55000305]\n",
      " [   1.            1.           30.            0.            0.\n",
      "   164.86669922]\n",
      " [   1.            1.           63.            1.            0.\n",
      "    77.95829773]\n",
      " [   1.            0.            0.            0.            0.\n",
      "    25.92499924]\n",
      " [   1.            1.           24.            0.            0.\n",
      "    69.30000305]\n",
      " [   1.            1.            2.            1.            2.\n",
      "   151.55000305]]\n"
     ]
    }
   ],
   "source": [
    "import tensorflow as tf\n",
    "# file list\n",
    "filenames = ['./titanic_dataset.csv']\n",
    "# file queue\n",
    "filename_queue = tf.train.string_input_producer(filenames)\n",
    "reader = tf.TextLineReader(skip_header_lines=True)\n",
    "_,value = reader.read(filename_queue)\n",
    "record_defaults = [[1.],[1.],[\"None\"],[\"None\"],[1.],[1.],[1.],[\"None\"],[1.0]]\n",
    "\n",
    "label,pclass,name,sex,age,sibsp,parch,ticket,fare \\\n",
    "    = tf.decode_csv(value,record_defaults=record_defaults)\n",
    "# Each variable is of Tensor type\n",
    "# preprocess,将Tensor全部处理为实数\n",
    "# 可以这样写,也可以如下写\n",
    "#sex = tf.cast(tf.equal(sex,\"female\"),tf.float32) \n",
    "sex = tf.cond(tf.equal(sex,\"female\"),lambda: tf.constant(1.0),lambda: tf.constant(0.0))\n",
    "\n",
    "feature = tf.stack([pclass,sex,age,sibsp,parch,fare])\n",
    "label_batch,feature_batch = tf.train.shuffle_batch([label,feature],batch_size=10,min_after_dequeue=30,capacity=100)\n",
    "with tf.Session() as sess:\n",
    "    coord = tf.train.Coordinator()\n",
    "    threads = tf.train.start_queue_runners(coord=coord)\n",
    "    for i in range(1):\n",
    "        print(feature_batch.eval())\n",
    "    coord.request_stop()\n",
    "    coord.join(threads)"
   ]
  },
  {
   "cell_type": "code",
   "execution_count": 20,
   "metadata": {},
   "outputs": [
    {
     "name": "stdout",
     "output_type": "stream",
     "text": [
      "[ -8.70554733   6.971663    13.07059669   1.6656239 ]\n",
      "0\n",
      "[-10.97807503  20.19344711  -7.4857378   25.31876755]\n",
      "1\n",
      "[  6.25867414  16.67843437   4.4450202    0.93004423]\n",
      "1\n",
      "[ -6.80075693   6.38164759  -8.53183556  18.01395988]\n",
      "1\n",
      "[-17.557024     9.95761585 -15.66968727 -12.46906662]\n",
      "0\n",
      "[-3.93508029 -2.41764307 -3.8494494   4.14832401]\n",
      "1\n",
      "[ -6.88991308  -3.17895055   5.85810137  23.6975956 ]\n",
      "0\n",
      "[ -1.70397878   4.10538292 -10.29130459  -4.23224545]\n",
      "0\n",
      "[  7.15477371 -20.28168297   9.09631538  -4.42101288]\n",
      "0\n",
      "[ -4.98077774  -5.920578    14.96670532   6.50292635]\n",
      "1\n"
     ]
    }
   ],
   "source": [
    "import tensorflow as tf\n",
    "import numpy as np\n",
    "data = 10 * np.random.randn(100, 4) + 1\n",
    "target = np.random.randint(0, 2, size=100) \n",
    "NUM_THREADS=4\n",
    "# Queue\n",
    "# Define a Queue\n",
    "queue = tf.FIFOQueue(capacity=50 , dtypes = [tf.float32,tf.int32])\n",
    "# Define enqueue operator\n",
    "enqueue_op = queue.enqueue_many([data,target])\n",
    "# Define dequeue operator\n",
    "data_sample, label_sample = queue.dequeue()\n",
    "# Define QueueRunner\n",
    "qr = tf.train.QueueRunner(queue, [enqueue_op] * NUM_THREADS)\n",
    "with tf.Session() as sess:\n",
    "    coord = tf.train.Coordinator()\n",
    "    enqueue_threads = qr.create_threads(sess, coord=coord, start=True)\n",
    "    for step in range(10):\n",
    "        if coord.should_stop():\n",
    "            break\n",
    "        data_batch, label_batch = sess.run([data_sample, label_sample])\n",
    "        print(data_batch)\n",
    "        print(label_batch)\n",
    "    coord.request_stop()\n",
    "    coord.join(enqueue_threads)"
   ]
  },
  {
   "cell_type": "code",
   "execution_count": null,
   "metadata": {
    "collapsed": true
   },
   "outputs": [],
   "source": []
  },
  {
   "cell_type": "raw",
   "metadata": {},
   "source": []
  }
 ],
 "metadata": {
  "kernelspec": {
   "display_name": "Python 3",
   "language": "python",
   "name": "python3"
  },
  "language_info": {
   "codemirror_mode": {
    "name": "ipython",
    "version": 3
   },
   "file_extension": ".py",
   "mimetype": "text/x-python",
   "name": "python",
   "nbconvert_exporter": "python",
   "pygments_lexer": "ipython3",
   "version": "3.6.1"
  }
 },
 "nbformat": 4,
 "nbformat_minor": 2
}
