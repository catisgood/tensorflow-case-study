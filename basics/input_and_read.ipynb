{
 "cells": [
  {
   "cell_type": "code",
   "execution_count": 15,
   "metadata": {},
   "outputs": [
    {
     "name": "stdout",
     "output_type": "stream",
     "text": [
      "(256, 256, 1)\n",
      "(429, 705, 3)\n",
      "(429, 705, 3)\n",
      "(256, 256, 1)\n",
      "(429, 705, 3)\n"
     ]
    }
   ],
   "source": [
    "import tensorflow as tf\n",
    "# file list\n",
    "filenames = ['./cameraman.png','./emoji_1.png']\n",
    "# file queue\n",
    "filename_queue = tf.train.string_input_producer(filenames)\n",
    "reader = tf.WholeFileReader()\n",
    "_, value = reader.read(filename_queue)\n",
    "# image queue\n",
    "images = tf.image.decode_png(value)\n",
    "with tf.Session() as sess:\n",
    "    coord = tf.train.Coordinator()\n",
    "    threads = tf.train.start_queue_runners(coord=coord)\n",
    "\n",
    "    # Finish off the filename queue coordinator.\n",
    "    sess.run(tf.global_variables_initializer())\n",
    "    for i in range(5):\n",
    "        print(images.eval().shape)\n",
    "    \n",
    "    coord.request_stop()\n",
    "    coord.join(threads)"
   ]
  },
  {
   "cell_type": "code",
   "execution_count": 108,
   "metadata": {
    "scrolled": true
   },
   "outputs": [
    {
     "name": "stdout",
     "output_type": "stream",
     "text": [
      "[[   1.            1.           35.            0.            0.\n",
      "   135.63330078]\n",
      " [   1.            1.           26.            0.            0.\n",
      "    78.84999847]\n",
      " [   1.            0.           26.            0.            0.           30.        ]\n",
      " [   1.            0.           25.            0.            0.           26.        ]\n",
      " [   1.            0.           28.            0.            0.\n",
      "    26.54999924]\n",
      " [   1.            0.           37.            1.            1.\n",
      "    52.55419922]\n",
      " [   1.            1.           24.            0.            0.\n",
      "    69.30000305]\n",
      " [   1.            1.           22.            0.            1.           55.        ]\n",
      " [   1.            1.           53.            2.            0.\n",
      "    51.47919846]\n",
      " [   1.            0.           48.            0.            0.\n",
      "    50.49580002]]\n"
     ]
    }
   ],
   "source": [
    "import tensorflow as tf\n",
    "# file list\n",
    "filenames = ['./titanic_dataset.csv']\n",
    "# file queue\n",
    "filename_queue = tf.train.string_input_producer(filenames)\n",
    "reader = tf.TextLineReader(skip_header_lines=True)\n",
    "_,value = reader.read(filename_queue)\n",
    "record_defaults = [[1.],[1.],[\"None\"],[\"None\"],[1.],[1.],[1.],[\"None\"],[1.0]]\n",
    "\n",
    "label,pclass,name,sex,age,sibsp,parch,ticket,fare \\\n",
    "    = tf.decode_csv(value,record_defaults=record_defaults)\n",
    "# Each variable is of Tensor type\n",
    "# preprocess,将Tensor全部处理为实数\n",
    "sex = tf.cast(tf.equal(sex,\"female\"),tf.float32)\n",
    "feature = tf.stack([pclass,sex,age,sibsp,parch,fare])\n",
    "label_batch,feature_batch = tf.train.shuffle_batch([label,feature],batch_size=10,min_after_dequeue=30,capacity=100)\n",
    "with tf.Session() as sess:\n",
    "    coord = tf.train.Coordinator()\n",
    "    threads = tf.train.start_queue_runners(coord=coord)\n",
    "    for i in range(1):\n",
    "        print(feature_batch.eval())\n",
    "    coord.request_stop()\n",
    "    coord.join(threads)"
   ]
  },
  {
   "cell_type": "code",
   "execution_count": null,
   "metadata": {
    "collapsed": true
   },
   "outputs": [],
   "source": []
  }
 ],
 "metadata": {
  "kernelspec": {
   "display_name": "Python 3",
   "language": "python",
   "name": "python3"
  },
  "language_info": {
   "codemirror_mode": {
    "name": "ipython",
    "version": 3
   },
   "file_extension": ".py",
   "mimetype": "text/x-python",
   "name": "python",
   "nbconvert_exporter": "python",
   "pygments_lexer": "ipython3",
   "version": "3.6.1"
  }
 },
 "nbformat": 4,
 "nbformat_minor": 2
}
